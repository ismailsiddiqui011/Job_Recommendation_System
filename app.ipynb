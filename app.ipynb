{
 "cells": [
  {
   "cell_type": "code",
   "execution_count": 1,
   "metadata": {},
   "outputs": [],
   "source": [
    "from flask import Flask, request, render_template\n",
    "import pandas as pd\n",
    "import Recommender_System"
   ]
  },
  {
   "cell_type": "code",
   "execution_count": 2,
   "metadata": {
    "scrolled": true
   },
   "outputs": [
    {
     "name": "stdout",
     "output_type": "stream",
     "text": [
      " * Serving Flask app \"__main__\" (lazy loading)\n",
      " * Environment: production\n",
      "   WARNING: This is a development server. Do not use it in a production deployment.\n",
      "   Use a production WSGI server instead.\n",
      " * Debug mode: off\n"
     ]
    },
    {
     "name": "stderr",
     "output_type": "stream",
     "text": [
      " * Running on http://0.0.0.0:8080/ (Press CTRL+C to quit)\n",
      "127.0.0.1 - - [19/Dec/2020 05:03:25] \"\u001b[37mPOST /predict?%27User%20ID%27=10 HTTP/1.1\u001b[0m\" 200 -\n",
      "127.0.0.1 - - [19/Dec/2020 05:03:34] \"\u001b[37mPOST /predict?%27User%20ID%27=10 HTTP/1.1\u001b[0m\" 200 -\n",
      "127.0.0.1 - - [19/Dec/2020 05:03:38] \"\u001b[37mPOST /predict?%27User%20ID%27=10 HTTP/1.1\u001b[0m\" 200 -\n",
      "127.0.0.1 - - [19/Dec/2020 05:03:49] \"\u001b[37mPOST /predict?%27User%20ID%27=10 HTTP/1.1\u001b[0m\" 200 -\n",
      "127.0.0.1 - - [19/Dec/2020 05:05:32] \"\u001b[37mPOST /predict HTTP/1.1\u001b[0m\" 200 -\n"
     ]
    }
   ],
   "source": [
    "app = Flask(__name__)\n",
    "@app.route('/')\n",
    "def home():\n",
    "    return render_template('index.html')\n",
    "\n",
    "@app.route('/predict', methods=([\"POST\"]))\n",
    "\n",
    "def predict():\n",
    "    query = request.form.to_dict()\n",
    "    query = int(query['User ID'])\n",
    "    predict = Recommender_System.predict(query)\n",
    "    return predict.to_html(header=\"true\", table_id=\"table\")\n",
    "\n",
    "if __name__ == '__main__':\n",
    "    app.run(host = '0.0.0.0', port = 8080)"
   ]
  }
 ],
 "metadata": {
  "kernelspec": {
   "display_name": "Python 3",
   "language": "python",
   "name": "python3"
  },
  "language_info": {
   "codemirror_mode": {
    "name": "ipython",
    "version": 3
   },
   "file_extension": ".py",
   "mimetype": "text/x-python",
   "name": "python",
   "nbconvert_exporter": "python",
   "pygments_lexer": "ipython3",
   "version": "3.8.3"
  }
 },
 "nbformat": 4,
 "nbformat_minor": 4
}
